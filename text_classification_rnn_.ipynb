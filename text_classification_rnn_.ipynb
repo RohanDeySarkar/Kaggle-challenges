{
  "nbformat": 4,
  "nbformat_minor": 0,
  "metadata": {
    "colab": {
      "name": "text_classification_rnn .ipynb",
      "provenance": [],
      "collapsed_sections": [],
      "toc_visible": true,
      "include_colab_link": true
    },
    "kernelspec": {
      "name": "python3",
      "display_name": "Python 3"
    },
    "accelerator": "GPU"
  },
  "cells": [
    {
      "cell_type": "markdown",
      "metadata": {
        "id": "view-in-github",
        "colab_type": "text"
      },
      "source": [
        "<a href=\"https://colab.research.google.com/github/RohanDeySarkar/Kaggle-challenges/blob/master/text_classification_rnn_.ipynb\" target=\"_parent\"><img src=\"https://colab.research.google.com/assets/colab-badge.svg\" alt=\"Open In Colab\"/></a>"
      ]
    },
    {
      "cell_type": "code",
      "metadata": {
        "id": "9KT67-TRrxY9",
        "colab": {
          "base_uri": "https://localhost:8080/"
        },
        "outputId": "bb26ef1d-66a5-45d4-df5e-2b2ddd22f5fb"
      },
      "source": [
        "import csv\n",
        "import tensorflow as tf\n",
        "import numpy as np\n",
        "from tensorflow.keras.preprocessing.text import Tokenizer\n",
        "from tensorflow.keras.preprocessing.sequence import pad_sequences\n",
        "import nltk\n",
        "from nltk.corpus import stopwords\n",
        "nltk.download('stopwords')\n",
        "\n",
        "STOPWORDS = set(stopwords.words('english'))"
      ],
      "execution_count": 8,
      "outputs": [
        {
          "output_type": "stream",
          "text": [
            "[nltk_data] Downloading package stopwords to /root/nltk_data...\n",
            "[nltk_data]   Package stopwords is already up-to-date!\n"
          ],
          "name": "stdout"
        }
      ]
    },
    {
      "cell_type": "code",
      "metadata": {
        "id": "y-7BVuPQsyJ1"
      },
      "source": [
        "articles = []\n",
        "labels = []\n",
        "\n",
        "with open(\"/content/bbc-text.csv\", 'r') as csvfile:\n",
        "    reader = csv.reader(csvfile, delimiter=',')\n",
        "    next(reader)\n",
        "    for row in reader:\n",
        "        labels.append(row[0])\n",
        "        article = row[1]\n",
        "        for word in STOPWORDS:\n",
        "            token = ' ' + word + ' '\n",
        "            article = article.replace(token, ' ')\n",
        "        articles.append(article)"
      ],
      "execution_count": 9,
      "outputs": []
    },
    {
      "cell_type": "code",
      "metadata": {
        "id": "AkHhHM74y-6g",
        "colab": {
          "base_uri": "https://localhost:8080/"
        },
        "outputId": "ca27c66e-4335-4278-d7a6-04ebdfe0bfe5"
      },
      "source": [
        "print(len(labels))\n",
        "print(len(articles))"
      ],
      "execution_count": 10,
      "outputs": [
        {
          "output_type": "stream",
          "text": [
            "2225\n",
            "2225\n"
          ],
          "name": "stdout"
        }
      ]
    },
    {
      "cell_type": "code",
      "metadata": {
        "id": "1R3AXIGSx0f1",
        "colab": {
          "base_uri": "https://localhost:8080/"
        },
        "outputId": "296f7aff-6156-4dd7-c838-2870a7faa4d3"
      },
      "source": [
        "set(labels)"
      ],
      "execution_count": 11,
      "outputs": [
        {
          "output_type": "execute_result",
          "data": {
            "text/plain": [
              "{'business', 'entertainment', 'politics', 'sport', 'tech'}"
            ]
          },
          "metadata": {
            "tags": []
          },
          "execution_count": 11
        }
      ]
    },
    {
      "cell_type": "code",
      "metadata": {
        "id": "50RhXna3sx6u"
      },
      "source": [
        "max_length = 200\n",
        "trunc_type = 'post'\n",
        "padding_type = 'post'\n",
        "oov_tok = '<OOV>'\n",
        "training_portion = .8"
      ],
      "execution_count": 12,
      "outputs": []
    },
    {
      "cell_type": "code",
      "metadata": {
        "id": "bEZkGRW_sySr"
      },
      "source": [
        "train_size = int(len(articles) * training_portion)\n",
        "\n",
        "train_articles = articles[0: train_size]\n",
        "train_labels = labels[0: train_size]\n",
        "\n",
        "validation_articles = articles[train_size:]\n",
        "validation_labels = labels[train_size:]"
      ],
      "execution_count": 13,
      "outputs": []
    },
    {
      "cell_type": "code",
      "metadata": {
        "id": "ECP8QZBOxYFm"
      },
      "source": [
        "vocab_size = 5000\n",
        "embedding_dim = 64\n",
        "num_epochs = 10"
      ],
      "execution_count": 14,
      "outputs": []
    },
    {
      "cell_type": "code",
      "metadata": {
        "id": "THOvop2VtZ_J"
      },
      "source": [
        "tokenizer = Tokenizer(num_words = vocab_size, oov_token=oov_tok)\n",
        "\n",
        "tokenizer.fit_on_texts(train_articles)"
      ],
      "execution_count": 15,
      "outputs": []
    },
    {
      "cell_type": "code",
      "metadata": {
        "id": "TrrbntaQ2KQU"
      },
      "source": [
        "word_index = tokenizer.word_index"
      ],
      "execution_count": 16,
      "outputs": []
    },
    {
      "cell_type": "code",
      "metadata": {
        "id": "5TYsqE180ohq"
      },
      "source": [
        "# word_index "
      ],
      "execution_count": 17,
      "outputs": []
    },
    {
      "cell_type": "code",
      "metadata": {
        "id": "brR9noYCt5ol",
        "colab": {
          "base_uri": "https://localhost:8080/",
          "height": 142
        },
        "outputId": "9cea42cb-93a6-455c-c884-fc381672432d"
      },
      "source": [
        "train_articles[5]"
      ],
      "execution_count": 18,
      "outputs": [
        {
          "output_type": "execute_result",
          "data": {
            "application/vnd.google.colaboratory.intrinsic+json": {
              "type": "string"
            },
            "text/plain": [
              "'howard hits back mongrel jibe michael howard said claim peter hain tory leader acting like  attack mongrel  shows labour  rattled  opposition.  upbeat speech party spring conference brighton  said labour campaigning tactics proved tories hitting home. mr hain made claim tory tactics anti-terror bill debate.  something tells someone  somewhere little bit rattled   mr howard said. mr hain  leader commons  told bbc radio four today programme mr howard stance government anti-terrorism legislation putting country risk. accused tory leader behaving like  attack mongrel   playing opposition opposition sake .  mr howard told party labour would  anything  say anything  claim anything cling office costs .  far year compared fagin  shylock flying pig. morning peter hain even called mongrel.  know  something tells someone  somewhere little bit rattled.  environment secretary margaret beckett rejected mr howard comment  telling radio 4 pm programme labour  rattled .  real duty try get people focus michael howard record  proposals trying put forward country also many examples seeing believe really poor judgement behalf.   mr howard said tory policies schools  taxes  immigration crime striking chord voters.   since beginning year - election year - making political weather   told party conference. mr howard denied  playing politics  raising case margaret dixon  whose operation cancelled seven times  grabbed headlines party two weeks ago. hit back labour claims used mrs dixon  human shield .  human shield mr blair  human being.  mr howard said party plans immigration quotas  also focus much media coverage   racist  -  common sense .  pledged cleaner hospitals better school discipline  promise get rid  political correctness  national curriculum give everyone chance  decent  state education had.  come ordinary family. teenage michael howard applying cambridge today  gordon brown would love me.   stressed party commitment cut taxes red tape increase basic state pension line earnings. finished personal appeal party activists go win next election.  one day able tell children grandchildren tell mine   there. bit. played part. helped win famous election - election transformed country better .  labour election co-ordinator alan milburn said:  michael howard speech today confirms always said - strategy opportunism forward vision country. reference appearance mr howard family conference stage  mr milburn said:  michael howard perfectly entitled pose family today.  hard working families across britain damaged plan cut £35bn public spending.'"
            ]
          },
          "metadata": {
            "tags": []
          },
          "execution_count": 18
        }
      ]
    },
    {
      "cell_type": "code",
      "metadata": {
        "id": "o9PpT96z1UjY"
      },
      "source": [
        "# word_index['howard']"
      ],
      "execution_count": 19,
      "outputs": []
    },
    {
      "cell_type": "code",
      "metadata": {
        "id": "n_MDZVIa3iKo"
      },
      "source": [
        "reverse_word_index = dict([(value, key) for (key, value) in word_index.items()])\n",
        "\n",
        "def decode_article(text):\n",
        "    return ' '.join([reverse_word_index.get(i, '?') for i in text])"
      ],
      "execution_count": 20,
      "outputs": []
    },
    {
      "cell_type": "code",
      "metadata": {
        "id": "irEjGP2ZtZ8X",
        "colab": {
          "base_uri": "https://localhost:8080/"
        },
        "outputId": "b4ded83b-ac5c-4a5b-ea26-381dedcb5c60"
      },
      "source": [
        "train_sequences = tokenizer.texts_to_sequences(train_articles)\n",
        "\n",
        "print(train_sequences[5])"
      ],
      "execution_count": 21,
      "outputs": [
        {
          "output_type": "stream",
          "text": [
            "[176, 1197, 29, 1, 1, 271, 176, 2, 572, 1037, 1, 303, 264, 1943, 28, 715, 1, 573, 32, 1, 806, 3062, 757, 50, 2168, 553, 4729, 2, 32, 1906, 3270, 1377, 327, 3063, 49, 3, 1, 24, 572, 303, 3270, 225, 1075, 239, 768, 295, 2968, 1061, 3271, 282, 700, 1, 3, 176, 2, 3, 1, 264, 716, 23, 37, 188, 103, 432, 345, 3, 176, 3386, 16, 225, 1444, 1339, 1423, 81, 859, 674, 303, 264, 1, 28, 715, 1, 234, 806, 806, 1, 3, 176, 23, 50, 32, 4, 670, 70, 670, 572, 670, 1, 206, 434, 183, 5, 733, 1, 1, 2215, 1, 1445, 1037, 1, 95, 146, 1, 177, 295, 2968, 1061, 3271, 282, 700, 1, 1427, 300, 3530, 1, 1266, 3, 176, 1198, 2216, 188, 84, 4298, 345, 32, 1, 194, 1237, 322, 25, 7, 896, 271, 176, 143, 723, 484, 105, 436, 81, 6, 30, 1, 1603, 275, 147, 832, 2969, 3064, 3, 176, 2, 303, 1093, 1128, 897, 706, 1036, 4985, 1, 825, 68, 1319, 5, 48, 5, 191, 372, 2428, 23, 50, 553, 3, 176, 606, 234, 1199, 1969, 266, 3530, 1, 848, 1442, 4115, 660, 250, 4986, 2970, 50, 15, 417, 366, 142, 29, 32, 393, 92, 2429, 1, 486, 1, 486, 1, 3, 75, 486, 1, 3, 176, 2, 50, 104, 706, 1, 6, 896, 53, 195, 3162, 2633, 1142, 1531, 1627, 1, 3163, 189, 734, 3387, 2071, 25, 3790, 372, 1, 209, 1, 197, 756, 316, 3388, 184, 724, 3960, 106, 2501, 496, 3389, 271, 176, 1, 4299, 432, 624, 97, 4, 630, 1663, 2567, 50, 2502, 279, 897, 1428, 4508, 287, 1787, 184, 1340, 210, 1341, 1554, 344, 701, 50, 3531, 61, 57, 36, 48, 10, 117, 201, 1424, 283, 1, 1424, 4509, 1446, 700, 241, 72, 710, 57, 2018, 48, 48, 1, 81, 189, 32, 48, 528, 1, 833, 1628, 2, 271, 176, 757, 432, 1, 355, 2, 1400, 1, 436, 2019, 81, 4300, 1861, 3, 176, 496, 553, 592, 3, 1628, 2, 271, 176, 2971, 2972, 4987, 496, 432, 246, 305, 1238, 360, 121, 3791, 422, 279, 4510, 73, 309]\n"
          ],
          "name": "stdout"
        }
      ]
    },
    {
      "cell_type": "code",
      "metadata": {
        "id": "k-0zpkkquMwf"
      },
      "source": [
        "train_padded = pad_sequences(train_sequences, maxlen=max_length, padding=padding_type, truncating=trunc_type)"
      ],
      "execution_count": 22,
      "outputs": []
    },
    {
      "cell_type": "code",
      "metadata": {
        "id": "6g8ADHXm33jN",
        "colab": {
          "base_uri": "https://localhost:8080/"
        },
        "outputId": "074be378-b692-4b87-e785-6c93987e50f6"
      },
      "source": [
        "print(len(train_sequences[5]))\n",
        "print(len(train_padded[5]))"
      ],
      "execution_count": 23,
      "outputs": [
        {
          "output_type": "stream",
          "text": [
            "355\n",
            "200\n"
          ],
          "name": "stdout"
        }
      ]
    },
    {
      "cell_type": "code",
      "metadata": {
        "id": "m3xLJy10uMzC"
      },
      "source": [
        "validation_sequences = tokenizer.texts_to_sequences(validation_articles)\n",
        "\n",
        "validation_padded = pad_sequences(validation_sequences, maxlen=max_length, padding=padding_type, truncating=trunc_type)"
      ],
      "execution_count": 24,
      "outputs": []
    },
    {
      "cell_type": "code",
      "metadata": {
        "id": "z-UVp1hJuM1c"
      },
      "source": [
        "label_tokenizer = Tokenizer()\n",
        "label_tokenizer.fit_on_texts(labels)\n",
        "\n",
        "training_label_seq = np.array(label_tokenizer.texts_to_sequences(train_labels))\n",
        "validation_label_seq = np.array(label_tokenizer.texts_to_sequences(validation_labels))"
      ],
      "execution_count": 25,
      "outputs": []
    },
    {
      "cell_type": "code",
      "metadata": {
        "id": "jfD9Yw1DuM5w",
        "colab": {
          "base_uri": "https://localhost:8080/"
        },
        "outputId": "16cdf3d2-49b9-43b6-e003-bd5e61469ca5"
      },
      "source": [
        "model = tf.keras.Sequential([\n",
        "    tf.keras.layers.Embedding(vocab_size, embedding_dim),\n",
        "    tf.keras.layers.Bidirectional(tf.keras.layers.LSTM(embedding_dim)),\n",
        "    tf.keras.layers.Dense(embedding_dim, activation='relu'),\n",
        "    tf.keras.layers.Dense(6, activation='softmax')\n",
        "])\n",
        "model.summary()"
      ],
      "execution_count": 26,
      "outputs": [
        {
          "output_type": "stream",
          "text": [
            "Model: \"sequential\"\n",
            "_________________________________________________________________\n",
            "Layer (type)                 Output Shape              Param #   \n",
            "=================================================================\n",
            "embedding (Embedding)        (None, None, 64)          320000    \n",
            "_________________________________________________________________\n",
            "bidirectional (Bidirectional (None, 128)               66048     \n",
            "_________________________________________________________________\n",
            "dense (Dense)                (None, 64)                8256      \n",
            "_________________________________________________________________\n",
            "dense_1 (Dense)              (None, 6)                 390       \n",
            "=================================================================\n",
            "Total params: 394,694\n",
            "Trainable params: 394,694\n",
            "Non-trainable params: 0\n",
            "_________________________________________________________________\n"
          ],
          "name": "stdout"
        }
      ]
    },
    {
      "cell_type": "code",
      "metadata": {
        "id": "5-Ea1s1tv6RI"
      },
      "source": [
        "model.compile(loss='sparse_categorical_crossentropy', optimizer='adam', metrics=['accuracy'])"
      ],
      "execution_count": 27,
      "outputs": []
    },
    {
      "cell_type": "code",
      "metadata": {
        "id": "5QT4XnGpu1Iu",
        "colab": {
          "base_uri": "https://localhost:8080/"
        },
        "outputId": "04816e58-54ee-4441-8858-9a3c26a907a0"
      },
      "source": [
        "history = model.fit(train_padded, training_label_seq, epochs=num_epochs, validation_data=(validation_padded, validation_label_seq), verbose=2)"
      ],
      "execution_count": 28,
      "outputs": [
        {
          "output_type": "stream",
          "text": [
            "Epoch 1/10\n",
            "56/56 - 36s - loss: 1.5773 - accuracy: 0.3489 - val_loss: 1.2505 - val_accuracy: 0.4584\n",
            "Epoch 2/10\n",
            "56/56 - 1s - loss: 0.7962 - accuracy: 0.7500 - val_loss: 0.5116 - val_accuracy: 0.8629\n",
            "Epoch 3/10\n",
            "56/56 - 1s - loss: 0.2481 - accuracy: 0.9455 - val_loss: 0.2755 - val_accuracy: 0.9124\n",
            "Epoch 4/10\n",
            "56/56 - 1s - loss: 0.0640 - accuracy: 0.9860 - val_loss: 0.2339 - val_accuracy: 0.9303\n",
            "Epoch 5/10\n",
            "56/56 - 1s - loss: 0.0152 - accuracy: 0.9972 - val_loss: 0.2071 - val_accuracy: 0.9506\n",
            "Epoch 6/10\n",
            "56/56 - 1s - loss: 0.0045 - accuracy: 1.0000 - val_loss: 0.2499 - val_accuracy: 0.9438\n",
            "Epoch 7/10\n",
            "56/56 - 1s - loss: 0.0253 - accuracy: 0.9944 - val_loss: 0.2613 - val_accuracy: 0.9258\n",
            "Epoch 8/10\n",
            "56/56 - 1s - loss: 0.0179 - accuracy: 0.9978 - val_loss: 0.3316 - val_accuracy: 0.9079\n",
            "Epoch 9/10\n",
            "56/56 - 1s - loss: 0.0046 - accuracy: 0.9994 - val_loss: 0.2601 - val_accuracy: 0.9438\n",
            "Epoch 10/10\n",
            "56/56 - 1s - loss: 0.0014 - accuracy: 1.0000 - val_loss: 0.2740 - val_accuracy: 0.9416\n"
          ],
          "name": "stdout"
        }
      ]
    },
    {
      "cell_type": "code",
      "metadata": {
        "id": "KCxgsbC1vEwE",
        "colab": {
          "base_uri": "https://localhost:8080/"
        },
        "outputId": "2455489a-4b76-495e-9529-12c9d84e6584"
      },
      "source": [
        "txt = [\"A WeWork shareholder has taken the company to court over the near-$1.7bn (£1.3bn) leaving package approved for ousted co-founder Adam Neumann.\"]\n",
        "seq = tokenizer.texts_to_sequences(txt)\n",
        "padded = pad_sequences(seq, maxlen=max_length)\n",
        "pred = np.argmax(model.predict(padded))\n",
        "labels = ['sport', 'business', 'politics', 'tech', 'entertainment']\n",
        "output = labels[pred - 1]\n",
        "print(output)"
      ],
      "execution_count": 31,
      "outputs": [
        {
          "output_type": "stream",
          "text": [
            "entertainment\n"
          ],
          "name": "stdout"
        }
      ]
    }
  ]
}